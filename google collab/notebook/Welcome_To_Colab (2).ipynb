{
 "cells": [
  {
   "cell_type": "code",
   "execution_count": 1,
   "metadata": {
    "id": "c8DioT2pNRZN"
   },
   "outputs": [],
   "source": [
    "import matplotlib as plt\n",
    "import seaborn as sns\n",
    "import numpy as np\n",
    "import pandas as pd"
   ]
  },
  {
   "cell_type": "code",
   "execution_count": 2,
   "metadata": {},
   "outputs": [
    {
     "name": "stdout",
     "output_type": "stream",
     "text": [
      "Collecting scikit-learn==1.5.1\n",
      "  Using cached scikit_learn-1.5.1-cp311-cp311-win_amd64.whl.metadata (12 kB)\n",
      "Requirement already satisfied: numpy>=1.19.5 in c:\\users\\deepa\\anaconda3\\lib\\site-packages (from scikit-learn==1.5.1) (1.26.4)\n",
      "Requirement already satisfied: scipy>=1.6.0 in c:\\users\\deepa\\anaconda3\\lib\\site-packages (from scikit-learn==1.5.1) (1.11.4)\n",
      "Requirement already satisfied: joblib>=1.2.0 in c:\\users\\deepa\\anaconda3\\lib\\site-packages (from scikit-learn==1.5.1) (1.2.0)\n",
      "Collecting threadpoolctl>=3.1.0 (from scikit-learn==1.5.1)\n",
      "  Using cached threadpoolctl-3.5.0-py3-none-any.whl.metadata (13 kB)\n",
      "Downloading scikit_learn-1.5.1-cp311-cp311-win_amd64.whl (11.0 MB)\n",
      "   ---------------------------------------- 0.0/11.0 MB ? eta -:--:--\n",
      "   ---------------------------------------- 0.0/11.0 MB ? eta -:--:--\n",
      "   ---------------------------------------- 0.0/11.0 MB ? eta -:--:--\n",
      "   ---------------------------------------- 0.0/11.0 MB ? eta -:--:--\n",
      "   ---------------------------------------- 0.0/11.0 MB ? eta -:--:--\n",
      "   ---------------------------------------- 0.0/11.0 MB 163.4 kB/s eta 0:01:07\n",
      "   ---------------------------------------- 0.1/11.0 MB 217.9 kB/s eta 0:00:51\n",
      "   ---------------------------------------- 0.1/11.0 MB 363.1 kB/s eta 0:00:30\n",
      "    --------------------------------------- 0.2/11.0 MB 565.6 kB/s eta 0:00:20\n",
      "   - -------------------------------------- 0.3/11.0 MB 838.1 kB/s eta 0:00:13\n",
      "   - -------------------------------------- 0.3/11.0 MB 838.1 kB/s eta 0:00:13\n",
      "   - -------------------------------------- 0.3/11.0 MB 838.1 kB/s eta 0:00:13\n",
      "   -- ------------------------------------- 0.6/11.0 MB 1.2 MB/s eta 0:00:09\n",
      "   -- ------------------------------------- 0.8/11.0 MB 1.4 MB/s eta 0:00:08\n",
      "   ---- ----------------------------------- 1.2/11.0 MB 1.9 MB/s eta 0:00:06\n",
      "   ---- ----------------------------------- 1.2/11.0 MB 1.9 MB/s eta 0:00:06\n",
      "   ----- ---------------------------------- 1.5/11.0 MB 2.1 MB/s eta 0:00:05\n",
      "   ----- ---------------------------------- 1.5/11.0 MB 2.1 MB/s eta 0:00:05\n",
      "   ------ --------------------------------- 1.9/11.0 MB 2.3 MB/s eta 0:00:05\n",
      "   ------ --------------------------------- 1.9/11.0 MB 2.3 MB/s eta 0:00:05\n",
      "   ------- -------------------------------- 2.1/11.0 MB 2.3 MB/s eta 0:00:04\n",
      "   -------- ------------------------------- 2.3/11.0 MB 2.5 MB/s eta 0:00:04\n",
      "   -------- ------------------------------- 2.3/11.0 MB 2.3 MB/s eta 0:00:04\n",
      "   --------- ------------------------------ 2.6/11.0 MB 2.6 MB/s eta 0:00:04\n",
      "   ----------- ---------------------------- 3.1/11.0 MB 2.8 MB/s eta 0:00:03\n",
      "   ------------ --------------------------- 3.5/11.0 MB 3.1 MB/s eta 0:00:03\n",
      "   ------------ --------------------------- 3.5/11.0 MB 3.1 MB/s eta 0:00:03\n",
      "   -------------- ------------------------- 3.9/11.0 MB 3.2 MB/s eta 0:00:03\n",
      "   -------------- ------------------------- 3.9/11.0 MB 3.2 MB/s eta 0:00:03\n",
      "   ---------------- ----------------------- 4.4/11.0 MB 3.3 MB/s eta 0:00:02\n",
      "   ---------------- ----------------------- 4.4/11.0 MB 3.3 MB/s eta 0:00:02\n",
      "   ----------------- ---------------------- 4.8/11.0 MB 3.3 MB/s eta 0:00:02\n",
      "   ----------------- ---------------------- 4.9/11.0 MB 3.4 MB/s eta 0:00:02\n",
      "   ----------------- ---------------------- 4.9/11.0 MB 3.2 MB/s eta 0:00:02\n",
      "   ------------------- -------------------- 5.4/11.0 MB 3.5 MB/s eta 0:00:02\n",
      "   ------------------- -------------------- 5.4/11.0 MB 3.5 MB/s eta 0:00:02\n",
      "   --------------------- ------------------ 5.9/11.0 MB 3.6 MB/s eta 0:00:02\n",
      "   ----------------------- ---------------- 6.4/11.0 MB 3.8 MB/s eta 0:00:02\n",
      "   ------------------------- -------------- 7.0/11.0 MB 4.0 MB/s eta 0:00:01\n",
      "   ------------------------- -------------- 7.0/11.0 MB 4.0 MB/s eta 0:00:01\n",
      "   --------------------------- ------------ 7.5/11.0 MB 4.1 MB/s eta 0:00:01\n",
      "   --------------------------- ------------ 7.5/11.0 MB 4.1 MB/s eta 0:00:01\n",
      "   ----------------------------- ---------- 8.0/11.0 MB 4.1 MB/s eta 0:00:01\n",
      "   ----------------------------- ---------- 8.0/11.0 MB 4.1 MB/s eta 0:00:01\n",
      "   ----------------------------- ---------- 8.0/11.0 MB 3.9 MB/s eta 0:00:01\n",
      "   ----------------------------- ---------- 8.0/11.0 MB 3.9 MB/s eta 0:00:01\n",
      "   ------------------------------ --------- 8.4/11.0 MB 4.0 MB/s eta 0:00:01\n",
      "   ------------------------------- -------- 8.6/11.0 MB 4.0 MB/s eta 0:00:01\n",
      "   ------------------------------- -------- 8.6/11.0 MB 4.0 MB/s eta 0:00:01\n",
      "   -------------------------------- ------- 8.9/11.0 MB 4.0 MB/s eta 0:00:01\n",
      "   -------------------------------- ------- 8.9/11.0 MB 4.0 MB/s eta 0:00:01\n",
      "   --------------------------------- ------ 9.2/11.0 MB 3.9 MB/s eta 0:00:01\n",
      "   --------------------------------- ------ 9.2/11.0 MB 3.9 MB/s eta 0:00:01\n",
      "   ----------------------------------- ---- 9.7/11.0 MB 4.0 MB/s eta 0:00:01\n",
      "   ------------------------------------ --- 10.0/11.0 MB 4.0 MB/s eta 0:00:01\n",
      "   ------------------------------------ --- 10.1/11.0 MB 4.0 MB/s eta 0:00:01\n",
      "   ------------------------------------- -- 10.3/11.0 MB 4.5 MB/s eta 0:00:01\n",
      "   -------------------------------------- - 10.7/11.0 MB 4.9 MB/s eta 0:00:01\n",
      "   ---------------------------------------  11.0/11.0 MB 4.9 MB/s eta 0:00:01\n",
      "   ---------------------------------------  11.0/11.0 MB 4.9 MB/s eta 0:00:01\n",
      "   ---------------------------------------  11.0/11.0 MB 4.9 MB/s eta 0:00:01\n",
      "   ---------------------------------------  11.0/11.0 MB 4.9 MB/s eta 0:00:01\n",
      "   ---------------------------------------  11.0/11.0 MB 4.9 MB/s eta 0:00:01\n",
      "   ---------------------------------------- 11.0/11.0 MB 4.4 MB/s eta 0:00:00\n",
      "Downloading threadpoolctl-3.5.0-py3-none-any.whl (18 kB)\n",
      "Installing collected packages: threadpoolctl, scikit-learn\n",
      "  Attempting uninstall: threadpoolctl\n",
      "    Found existing installation: threadpoolctl 2.2.0\n",
      "    Uninstalling threadpoolctl-2.2.0:\n",
      "      Successfully uninstalled threadpoolctl-2.2.0\n",
      "  Attempting uninstall: scikit-learn\n",
      "    Found existing installation: scikit-learn 1.4.2\n",
      "    Uninstalling scikit-learn-1.4.2:\n",
      "      Successfully uninstalled scikit-learn-1.4.2\n",
      "Successfully installed scikit-learn-1.5.1 threadpoolctl-3.5.0\n",
      "Note: you may need to restart the kernel to use updated packages.\n"
     ]
    },
    {
     "name": "stderr",
     "output_type": "stream",
     "text": [
      "  WARNING: Failed to remove contents in a temporary directory 'C:\\Users\\deepa\\anaconda3\\Lib\\site-packages\\~.learn'.\n",
      "  You can safely remove it manually.\n"
     ]
    }
   ],
   "source": [
    "pip install scikit-learn==1.5.1"
   ]
  },
  {
   "cell_type": "code",
   "execution_count": 3,
   "metadata": {},
   "outputs": [
    {
     "name": "stdout",
     "output_type": "stream",
     "text": [
      "Name: scikit-learnNote: you may need to restart the kernel to use updated packages.\n",
      "\n",
      "Version: 1.5.1\n",
      "Summary: A set of python modules for machine learning and data mining\n",
      "Home-page: https://scikit-learn.org\n",
      "Author: \n",
      "Author-email: \n",
      "License: new BSD\n",
      "Location: C:\\Users\\deepa\\anaconda3\\Lib\\site-packages\n",
      "Requires: joblib, numpy, scipy, threadpoolctl\n",
      "Required-by: imbalanced-learn\n"
     ]
    }
   ],
   "source": [
    "pip show scikit-learn\n"
   ]
  },
  {
   "cell_type": "code",
   "execution_count": 4,
   "metadata": {
    "id": "7v82KgoJPhmJ"
   },
   "outputs": [],
   "source": [
    "df=pd.read_csv('dataset123.csv')"
   ]
  },
  {
   "cell_type": "code",
   "execution_count": 5,
   "metadata": {
    "colab": {
     "base_uri": "https://localhost:8080/"
    },
    "id": "ro-gQBdsPmbN",
    "outputId": "c43b4f75-ccf3-4fd5-d03b-a9f8c7d350cc"
   },
   "outputs": [
    {
     "data": {
      "text/plain": [
       "array(['35', '63', '25', '53', '92', '67', '60', '48', '27', '73', '19',\n",
       "       '72', '16', '54', '39', '38', '33', '45', '21', '51', '64', '40',\n",
       "       '71', '49', '79', '20', '59', '37', '42', '46', '50', '69', '30',\n",
       "       '31', '89', '77', '68', '65', '24', '75', '80', '23', '11', '18',\n",
       "       '62', '76', '22', '70', '47', '56', '26', '28', '83', '74', '78',\n",
       "       '58', '61', '55', '41', '85', '86', '32', '43', '17', '57', '66',\n",
       "       '34', '14', '52', '93', '36', '81', '84', '15', '12', '44', '29',\n",
       "       '82', '87', '88', '7', '1', '13', '10', '90', '94', '4', '8', '5',\n",
       "       '455', '2', '91', '6', '?'], dtype=object)"
      ]
     },
     "execution_count": 5,
     "metadata": {},
     "output_type": "execute_result"
    }
   ],
   "source": [
    "df['age'].unique()\n"
   ]
  },
  {
   "cell_type": "code",
   "execution_count": 6,
   "metadata": {
    "colab": {
     "base_uri": "https://localhost:8080/",
     "height": 130
    },
    "id": "wshG7hK2PrJY",
    "outputId": "1595b513-553e-4f52-ac7d-03dcfb31992e"
   },
   "outputs": [
    {
     "data": {
      "text/html": [
       "<div>\n",
       "<style scoped>\n",
       "    .dataframe tbody tr th:only-of-type {\n",
       "        vertical-align: middle;\n",
       "    }\n",
       "\n",
       "    .dataframe tbody tr th {\n",
       "        vertical-align: top;\n",
       "    }\n",
       "\n",
       "    .dataframe thead th {\n",
       "        text-align: right;\n",
       "    }\n",
       "</style>\n",
       "<table border=\"1\" class=\"dataframe\">\n",
       "  <thead>\n",
       "    <tr style=\"text-align: right;\">\n",
       "      <th></th>\n",
       "      <th>age</th>\n",
       "      <th>sex</th>\n",
       "      <th>on_thyroxine</th>\n",
       "      <th>query_on_thyroxine</th>\n",
       "      <th>on_antithyroid_medication</th>\n",
       "      <th>sick</th>\n",
       "      <th>pregnant</th>\n",
       "      <th>thyroid_surgery</th>\n",
       "      <th>I131_treatment</th>\n",
       "      <th>query_hypothyroid</th>\n",
       "      <th>...</th>\n",
       "      <th>TT4_measured</th>\n",
       "      <th>TT4</th>\n",
       "      <th>T4U_measured</th>\n",
       "      <th>T4U</th>\n",
       "      <th>FTI_measured</th>\n",
       "      <th>FTI</th>\n",
       "      <th>TBG_measured</th>\n",
       "      <th>TBG</th>\n",
       "      <th>referral_source</th>\n",
       "      <th>target</th>\n",
       "    </tr>\n",
       "  </thead>\n",
       "  <tbody>\n",
       "    <tr>\n",
       "      <th>2336</th>\n",
       "      <td>455</td>\n",
       "      <td>F</td>\n",
       "      <td>f</td>\n",
       "      <td>f</td>\n",
       "      <td>f</td>\n",
       "      <td>f</td>\n",
       "      <td>f</td>\n",
       "      <td>f</td>\n",
       "      <td>f</td>\n",
       "      <td>f</td>\n",
       "      <td>...</td>\n",
       "      <td>t</td>\n",
       "      <td>118</td>\n",
       "      <td>t</td>\n",
       "      <td>1.13</td>\n",
       "      <td>t</td>\n",
       "      <td>104</td>\n",
       "      <td>f</td>\n",
       "      <td>?</td>\n",
       "      <td>SVI</td>\n",
       "      <td>negative</td>\n",
       "    </tr>\n",
       "  </tbody>\n",
       "</table>\n",
       "<p>1 rows × 30 columns</p>\n",
       "</div>"
      ],
      "text/plain": [
       "      age sex on_thyroxine query_on_thyroxine on_antithyroid_medication sick  \\\n",
       "2336  455   F            f                  f                         f    f   \n",
       "\n",
       "     pregnant thyroid_surgery I131_treatment query_hypothyroid  ...  \\\n",
       "2336        f               f              f                 f  ...   \n",
       "\n",
       "     TT4_measured  TT4 T4U_measured   T4U FTI_measured  FTI TBG_measured TBG  \\\n",
       "2336            t  118            t  1.13            t  104            f   ?   \n",
       "\n",
       "     referral_source    target  \n",
       "2336             SVI  negative  \n",
       "\n",
       "[1 rows x 30 columns]"
      ]
     },
     "execution_count": 6,
     "metadata": {},
     "output_type": "execute_result"
    }
   ],
   "source": [
    "df.describe()\n",
    "df1=df[df['age']=='455']\n",
    "df1"
   ]
  },
  {
   "cell_type": "code",
   "execution_count": 7,
   "metadata": {
    "colab": {
     "base_uri": "https://localhost:8080/"
    },
    "id": "WpQTCV_LRkGm",
    "outputId": "03eb2e10-29dc-47d9-fc5a-ac2a64ba7ea3"
   },
   "outputs": [
    {
     "data": {
      "text/plain": [
       "array(['F', 'M', '?'], dtype=object)"
      ]
     },
     "execution_count": 7,
     "metadata": {},
     "output_type": "execute_result"
    }
   ],
   "source": [
    "df.sex.unique()"
   ]
  },
  {
   "cell_type": "code",
   "execution_count": 8,
   "metadata": {
    "id": "GXYBuiUsRwd9"
   },
   "outputs": [],
   "source": [
    "#df=df.dropna(subset=['sex'])"
   ]
  },
  {
   "cell_type": "code",
   "execution_count": 9,
   "metadata": {
    "id": "V85LIeLySGZ7"
   },
   "outputs": [],
   "source": [
    "#df.describe()"
   ]
  },
  {
   "cell_type": "code",
   "execution_count": 10,
   "metadata": {
    "colab": {
     "base_uri": "https://localhost:8080/"
    },
    "id": "FB6Cd2NJSjpM",
    "outputId": "c0118a36-3f31-4694-ceb1-e743dc2b6b26"
   },
   "outputs": [
    {
     "data": {
      "text/plain": [
       "array(['F', 'M', '?'], dtype=object)"
      ]
     },
     "execution_count": 10,
     "metadata": {},
     "output_type": "execute_result"
    }
   ],
   "source": [
    "df.sex.unique()"
   ]
  },
  {
   "cell_type": "code",
   "execution_count": 11,
   "metadata": {
    "id": "23inW4MKTbYO"
   },
   "outputs": [],
   "source": [
    "#df=df[df.sex!='?']"
   ]
  },
  {
   "cell_type": "code",
   "execution_count": 12,
   "metadata": {
    "colab": {
     "base_uri": "https://localhost:8080/"
    },
    "id": "Rv9ZHK6CTnfr",
    "outputId": "e5aa5106-7619-44fb-a64a-a529d7f4499b"
   },
   "outputs": [
    {
     "data": {
      "text/plain": [
       "(4744, 30)"
      ]
     },
     "execution_count": 12,
     "metadata": {},
     "output_type": "execute_result"
    }
   ],
   "source": [
    "df.shape"
   ]
  },
  {
   "cell_type": "code",
   "execution_count": 13,
   "metadata": {
    "id": "NUGpyTXQpq5o"
   },
   "outputs": [],
   "source": [
    "import sklearn\n",
    "from sklearn.impute import SimpleImputer"
   ]
  },
  {
   "cell_type": "code",
   "execution_count": 14,
   "metadata": {
    "colab": {
     "base_uri": "https://localhost:8080/"
    },
    "id": "Zx7b1SL8qC51",
    "outputId": "84972463-2259-40fb-8660-97f731670622"
   },
   "outputs": [
    {
     "data": {
      "text/plain": [
       "age                           94\n",
       "sex                            3\n",
       "on_thyroxine                   2\n",
       "query_on_thyroxine             2\n",
       "on_antithyroid_medication      2\n",
       "sick                           2\n",
       "pregnant                       2\n",
       "thyroid_surgery                2\n",
       "I131_treatment                 2\n",
       "query_hypothyroid              2\n",
       "query_hyperthyroid             2\n",
       "lithium                        2\n",
       "goitre                         2\n",
       "tumor                          2\n",
       "hypopituitary                  2\n",
       "psych                          2\n",
       "TSH_measured                   2\n",
       "TSH                          288\n",
       "T3_measured                    2\n",
       "T3                            70\n",
       "TT4_measured                   2\n",
       "TT4                          242\n",
       "T4U_measured                   2\n",
       "T4U                          147\n",
       "FTI_measured                   2\n",
       "FTI                          235\n",
       "TBG_measured                   1\n",
       "TBG                            1\n",
       "referral_source                5\n",
       "target                        10\n",
       "dtype: int64"
      ]
     },
     "execution_count": 14,
     "metadata": {},
     "output_type": "execute_result"
    }
   ],
   "source": [
    "df.nunique()"
   ]
  },
  {
   "cell_type": "code",
   "execution_count": 15,
   "metadata": {
    "id": "nDqVQOQbqea1"
   },
   "outputs": [],
   "source": [
    "impute=SimpleImputer(strategy='most_frequent')\n",
    "impute1=SimpleImputer(strategy='median')\n"
   ]
  },
  {
   "cell_type": "code",
   "execution_count": 16,
   "metadata": {
    "id": "3WmVdSecr_9H"
   },
   "outputs": [],
   "source": [
    "df.replace('?',np.nan,inplace=True)\n",
    "df[['sex']]=impute.fit_transform(df[['sex']])"
   ]
  },
  {
   "cell_type": "code",
   "execution_count": 17,
   "metadata": {
    "colab": {
     "base_uri": "https://localhost:8080/"
    },
    "id": "xBILO8VVtnOW",
    "outputId": "8bc54404-0cb7-4745-dbc3-b8005182b532"
   },
   "outputs": [
    {
     "data": {
      "text/plain": [
       "2"
      ]
     },
     "execution_count": 17,
     "metadata": {},
     "output_type": "execute_result"
    }
   ],
   "source": [
    "df['sex'].nunique()"
   ]
  },
  {
   "cell_type": "code",
   "execution_count": 18,
   "metadata": {
    "colab": {
     "base_uri": "https://localhost:8080/"
    },
    "id": "n1DdKiXWvCY5",
    "outputId": "9bc215a5-2ceb-4596-b9ad-42548f5b5ca3"
   },
   "outputs": [
    {
     "data": {
      "text/plain": [
       "(4744,)"
      ]
     },
     "execution_count": 18,
     "metadata": {},
     "output_type": "execute_result"
    }
   ],
   "source": [
    "df['sex'].shape"
   ]
  },
  {
   "cell_type": "code",
   "execution_count": 19,
   "metadata": {
    "colab": {
     "base_uri": "https://localhost:8080/"
    },
    "id": "BPgxr73svGED",
    "outputId": "8dd963df-95d3-4e33-beb0-f2e79634e734"
   },
   "outputs": [
    {
     "name": "stdout",
     "output_type": "stream",
     "text": [
      "<class 'pandas.core.frame.DataFrame'>\n",
      "RangeIndex: 4744 entries, 0 to 4743\n",
      "Data columns (total 30 columns):\n",
      " #   Column                     Non-Null Count  Dtype  \n",
      "---  ------                     --------------  -----  \n",
      " 0   age                        4743 non-null   object \n",
      " 1   sex                        4744 non-null   object \n",
      " 2   on_thyroxine               4744 non-null   object \n",
      " 3   query_on_thyroxine         4744 non-null   object \n",
      " 4   on_antithyroid_medication  4744 non-null   object \n",
      " 5   sick                       4744 non-null   object \n",
      " 6   pregnant                   4744 non-null   object \n",
      " 7   thyroid_surgery            4744 non-null   object \n",
      " 8   I131_treatment             4744 non-null   object \n",
      " 9   query_hypothyroid          4744 non-null   object \n",
      " 10  query_hyperthyroid         4744 non-null   object \n",
      " 11  lithium                    4744 non-null   object \n",
      " 12  goitre                     4744 non-null   object \n",
      " 13  tumor                      4744 non-null   object \n",
      " 14  hypopituitary              4744 non-null   object \n",
      " 15  psych                      4744 non-null   object \n",
      " 16  TSH_measured               4744 non-null   object \n",
      " 17  TSH                        4290 non-null   object \n",
      " 18  T3_measured                4744 non-null   object \n",
      " 19  T3                         3791 non-null   object \n",
      " 20  TT4_measured               4744 non-null   object \n",
      " 21  TT4                        4466 non-null   object \n",
      " 22  T4U_measured               4744 non-null   object \n",
      " 23  T4U                        4267 non-null   object \n",
      " 24  FTI_measured               4744 non-null   object \n",
      " 25  FTI                        4269 non-null   object \n",
      " 26  TBG_measured               4744 non-null   object \n",
      " 27  TBG                        0 non-null      float64\n",
      " 28  referral_source            4744 non-null   object \n",
      " 29  target                     4744 non-null   object \n",
      "dtypes: float64(1), object(29)\n",
      "memory usage: 1.1+ MB\n"
     ]
    },
    {
     "data": {
      "text/plain": [
       "array(['35', '63', '25', '53', '92', '67', '60', '48', '27', '73', '19',\n",
       "       '72', '16', '54', '39', '38', '33', '45', '21', '51', '64', '40',\n",
       "       '71', '49', '79', '20', '59', '37', '42', '46', '50', '69', '30',\n",
       "       '31', '89', '77', '68', '65', '24', '75', '80', '23', '11', '18',\n",
       "       '62', '76', '22', '70', '47', '56', '26', '28', '83', '74', '78',\n",
       "       '58', '61', '55', '41', '85', '86', '32', '43', '17', '57', '66',\n",
       "       '34', '14', '52', '93', '36', '81', '84', '15', '12', '44', '29',\n",
       "       '82', '87', '88', '7', '1', '13', '10', '90', '94', '4', '8', '5',\n",
       "       '455', '2', '91', '6', nan], dtype=object)"
      ]
     },
     "execution_count": 19,
     "metadata": {},
     "output_type": "execute_result"
    }
   ],
   "source": [
    "df.info()\n",
    "df['age'].unique()"
   ]
  },
  {
   "cell_type": "code",
   "execution_count": null,
   "metadata": {
    "colab": {
     "base_uri": "https://localhost:8080/"
    },
    "id": "_aj_HmiLvPMZ",
    "outputId": "c806e074-f22b-48b1-c006-d98620cd5b01"
   },
   "outputs": [],
   "source": [
    "df['age']=pd.to_numeric(df['age'],errors='coerce')\n",
    "df=df[df['age']!=455]\n",
    "mean_age=df['age'].mean()\n",
    "df['age']=df['age'].fillna(mean_age) #df['age']=impute1.fit_transform(df[['age']])\n",
    "df['age']=df['age'].round(0).astype('int')\n",
    "df['age'].unique()"
   ]
  },
  {
   "cell_type": "code",
   "execution_count": null,
   "metadata": {
    "id": "lpgotu6sv9Vb"
   },
   "outputs": [],
   "source": [
    "#df['sex'].unique()"
   ]
  },
  {
   "cell_type": "code",
   "execution_count": null,
   "metadata": {
    "id": "vyKAJFtfwNe_"
   },
   "outputs": [],
   "source": [
    "#row=df[df[['age']]!=int]"
   ]
  },
  {
   "cell_type": "code",
   "execution_count": null,
   "metadata": {
    "id": "vHQJlELgxMmB"
   },
   "outputs": [],
   "source": [
    "#row"
   ]
  },
  {
   "cell_type": "code",
   "execution_count": null,
   "metadata": {
    "colab": {
     "base_uri": "https://localhost:8080/"
    },
    "id": "lLiVgZ2t4JU1",
    "outputId": "98be4632-d06a-4b04-95d8-d0c2cc6691ee"
   },
   "outputs": [],
   "source": [
    "df_values=['negative','compensated hypothyroid','primary thyroid']\n",
    "df= df[df['target'].isin(df_values)]\n",
    "df['target'].value_counts()\n"
   ]
  },
  {
   "cell_type": "code",
   "execution_count": null,
   "metadata": {
    "colab": {
     "base_uri": "https://localhost:8080/",
     "height": 444
    },
    "id": "aNfIZrAGx1uT",
    "outputId": "327756b9-3101-444c-f9a4-2c4c6a83009f"
   },
   "outputs": [],
   "source": [
    "df"
   ]
  },
  {
   "cell_type": "code",
   "execution_count": null,
   "metadata": {
    "id": "jktfmkU52RFD"
   },
   "outputs": [],
   "source": [
    "df['TSH']=pd.to_numeric(df['TSH'],errors='coerce')"
   ]
  },
  {
   "cell_type": "code",
   "execution_count": null,
   "metadata": {
    "colab": {
     "base_uri": "https://localhost:8080/"
    },
    "id": "U94ApDse2uRH",
    "outputId": "fd322f02-5c62-476d-9a63-be25041bdf2d"
   },
   "outputs": [],
   "source": [
    "df['TSH']"
   ]
  },
  {
   "cell_type": "code",
   "execution_count": null,
   "metadata": {
    "colab": {
     "base_uri": "https://localhost:8080/"
    },
    "id": "n6b7m5_62znM",
    "outputId": "b7e70032-db43-4c7f-94ff-effad46aaa9a"
   },
   "outputs": [],
   "source": [
    "df['TSH']=impute1.fit_transform(df[['TSH']])\n",
    "df['TSH']"
   ]
  },
  {
   "cell_type": "code",
   "execution_count": null,
   "metadata": {
    "colab": {
     "base_uri": "https://localhost:8080/"
    },
    "id": "wA9tRh1W40_J",
    "outputId": "459cb0c1-1692-4e65-ca95-108e872a628a"
   },
   "outputs": [],
   "source": [
    "df['TSH'].unique()"
   ]
  },
  {
   "cell_type": "code",
   "execution_count": null,
   "metadata": {
    "colab": {
     "base_uri": "https://localhost:8080/"
    },
    "id": "amvP3rKuC5DC",
    "outputId": "9b6e4690-6ba8-455b-e008-92cb58330c15"
   },
   "outputs": [],
   "source": [
    "df['T3'].unique()"
   ]
  },
  {
   "cell_type": "code",
   "execution_count": null,
   "metadata": {
    "colab": {
     "base_uri": "https://localhost:8080/"
    },
    "id": "X5REx9ExETu6",
    "outputId": "dad44bfd-481d-4668-8a86-2fd522f10274"
   },
   "outputs": [],
   "source": [
    "df['T3']=pd.to_numeric(df['T3'],errors='coerce')\n",
    "df['T3']=impute1.fit_transform(df[['T3']])\n",
    "df['T3'].unique()"
   ]
  },
  {
   "cell_type": "code",
   "execution_count": null,
   "metadata": {
    "colab": {
     "base_uri": "https://localhost:8080/"
    },
    "id": "2SVQLaxMs5f6",
    "outputId": "d1e10d25-852b-44bb-ff30-8286518d86f7"
   },
   "outputs": [],
   "source": [
    "df['TT4'].unique()\n",
    "df['TT4']=pd.to_numeric(df['TT4'],errors='coerce')\n",
    "df['TT4']=impute1.fit_transform(df[['TT4']])\n",
    "df['TT4'].unique()\n",
    "\n"
   ]
  },
  {
   "cell_type": "code",
   "execution_count": null,
   "metadata": {
    "id": "i_f06VWntCHy"
   },
   "outputs": [],
   "source": []
  },
  {
   "cell_type": "code",
   "execution_count": null,
   "metadata": {
    "colab": {
     "base_uri": "https://localhost:8080/"
    },
    "id": "QuBC8TuUtktP",
    "outputId": "24c68c40-b353-4481-cb3e-42ab81f87edd"
   },
   "outputs": [],
   "source": [
    "df['T4U'].unique()\n",
    "df['T4U']=pd.to_numeric(df['T4U'],errors='coerce')\n",
    "df['T4U']=impute1.fit_transform(df[['T4U']])\n",
    "df['T4U'].unique()"
   ]
  },
  {
   "cell_type": "code",
   "execution_count": null,
   "metadata": {
    "colab": {
     "base_uri": "https://localhost:8080/"
    },
    "id": "C2bCTM25x_Ri",
    "outputId": "41b7ad8c-8d1d-4327-fbe9-16cddb87295c"
   },
   "outputs": [],
   "source": [
    "\n",
    "df['FTI']=pd.to_numeric(df['FTI'],errors='coerce')\n",
    "df['FTI']=impute1.fit_transform(df[['FTI']])\n",
    "df['FTI'].unique()"
   ]
  },
  {
   "cell_type": "code",
   "execution_count": null,
   "metadata": {
    "id": "qzZiNBE3yqtU"
   },
   "outputs": [],
   "source": [
    "df.drop(['TBG','TBG_measured','referral_source'],axis=1,inplace=True)"
   ]
  },
  {
   "cell_type": "code",
   "execution_count": null,
   "metadata": {
    "id": "JD7kdKzSEau7"
   },
   "outputs": [],
   "source": []
  },
  {
   "cell_type": "code",
   "execution_count": null,
   "metadata": {
    "colab": {
     "base_uri": "https://localhost:8080/"
    },
    "id": "pHs-_fb2xCWz",
    "outputId": "1b255243-ac93-403c-e143-22a04476a3a9"
   },
   "outputs": [],
   "source": [
    "df.info()"
   ]
  },
  {
   "cell_type": "code",
   "execution_count": null,
   "metadata": {
    "id": "FT0-Ol14xg3_"
   },
   "outputs": [],
   "source": [
    "#pd.get_dummies one-hot-encoding"
   ]
  },
  {
   "cell_type": "code",
   "execution_count": null,
   "metadata": {
    "id": "Uhqi0fnx2Wog"
   },
   "outputs": [],
   "source": [
    "df=pd.get_dummies(df,columns=['sex','on_thyroxine','on_antithyroid_medication','sick','pregnant','thyroid_surgery','I131_treatment','query_on_thyroxine','query_hypothyroid','query_hyperthyroid','lithium','goitre','tumor','hypopituitary','psych','TSH_measured','T3_measured','TT4_measured','T4U_measured','FTI_measured'])"
   ]
  },
  {
   "cell_type": "code",
   "execution_count": null,
   "metadata": {
    "colab": {
     "base_uri": "https://localhost:8080/",
     "height": 444
    },
    "id": "zRKLC8YR4f6w",
    "outputId": "cb961e52-dd73-4b31-a1b1-6e53b4bdebf4"
   },
   "outputs": [],
   "source": [
    "df\n"
   ]
  },
  {
   "cell_type": "code",
   "execution_count": null,
   "metadata": {
    "id": "reZTicFN4rWk"
   },
   "outputs": [],
   "source": [
    "#spliting"
   ]
  },
  {
   "cell_type": "code",
   "execution_count": null,
   "metadata": {
    "id": "8X5j6IErCZVy"
   },
   "outputs": [],
   "source": [
    "x=df.drop(['target'],axis=1)\n",
    "y=df['target']\n",
    "df=df.drop_duplicates()\n"
   ]
  },
  {
   "cell_type": "code",
   "execution_count": null,
   "metadata": {
    "id": "D4wAHjaE3VUa"
   },
   "outputs": [],
   "source": []
  },
  {
   "cell_type": "code",
   "execution_count": null,
   "metadata": {
    "id": "ic1ab2kACmor"
   },
   "outputs": [],
   "source": [
    "from sklearn.model_selection import train_test_split\n",
    "x_train,x_test,y_train,y_test=train_test_split(x,y,test_size=0.2,random_state=42)"
   ]
  },
  {
   "cell_type": "code",
   "execution_count": null,
   "metadata": {
    "id": "bFsFgJ1fHbTr"
   },
   "outputs": [],
   "source": [
    "!pip install imblearn --quiet\n",
    "from imblearn.over_sampling import SMOTE"
   ]
  },
  {
   "cell_type": "code",
   "execution_count": null,
   "metadata": {
    "id": "FIC9hwjunT_G"
   },
   "outputs": [],
   "source": [
    "from sklearn.preprocessing import StandardScaler\n",
    "sc=StandardScaler()\n",
    "x_train=sc.fit_transform(x_train)\n",
    "x_test=sc.transform(x_test)"
   ]
  },
  {
   "cell_type": "code",
   "execution_count": null,
   "metadata": {
    "colab": {
     "base_uri": "https://localhost:8080/"
    },
    "id": "oYJrtmhVC5FK",
    "outputId": "dfacfc28-58b2-4312-f869-326851678578"
   },
   "outputs": [],
   "source": [
    "df['target'].value_counts()\n"
   ]
  },
  {
   "cell_type": "code",
   "execution_count": null,
   "metadata": {
    "id": "iDA3o3ClrDYr"
   },
   "outputs": [],
   "source": []
  },
  {
   "cell_type": "code",
   "execution_count": null,
   "metadata": {
    "id": "a6JjEQ0-0XbF"
   },
   "outputs": [],
   "source": []
  },
  {
   "cell_type": "code",
   "execution_count": null,
   "metadata": {
    "id": "ZF35QHXlHJuZ"
   },
   "outputs": [],
   "source": [
    "os=SMOTE(random_state=42,k_neighbors=5)\n",
    "x_train,y_train=os.fit_resample(x_train,y_train)"
   ]
  },
  {
   "cell_type": "code",
   "execution_count": null,
   "metadata": {
    "colab": {
     "base_uri": "https://localhost:8080/"
    },
    "id": "z1SmCvap8nNI",
    "outputId": "284d4f0e-cfd2-4a33-b329-b52b55739f77"
   },
   "outputs": [],
   "source": [
    "y_train.value_counts()"
   ]
  },
  {
   "cell_type": "code",
   "execution_count": null,
   "metadata": {
    "id": "w53wugmoAdot"
   },
   "outputs": [],
   "source": [
    "from sklearn.ensemble import RandomForestClassifier\n",
    "from sklearn.metrics import accuracy_score,confusion_matrix,classification_report\n",
    "from sklearn.model_selection import GridSearchCV\n"
   ]
  },
  {
   "cell_type": "code",
   "execution_count": null,
   "metadata": {
    "colab": {
     "base_uri": "https://localhost:8080/",
     "height": 53
    },
    "id": "ZOCvhnANFiSt",
    "outputId": "1f70f53f-c464-4f3c-ca45-5306960d31aa"
   },
   "outputs": [],
   "source": [
    "'''xgb=XGBClassifier(random_state=42,max_depth=4,n_estimators=100,bootstrap=True,max_leaf_nodes=10,objective='multi:softmax', num_class=len(set(y_train)))\n",
    "xgb.fit(x_train,y_train)'''"
   ]
  },
  {
   "cell_type": "code",
   "execution_count": null,
   "metadata": {
    "colab": {
     "base_uri": "https://localhost:8080/",
     "height": 53
    },
    "id": "qYgNmHzBA-Jz",
    "outputId": "a52a1704-4d82-436c-a015-86bcfce559a1"
   },
   "outputs": [],
   "source": [
    "'''rf=RandomForestClassifier(random_state=42,'bootstrap': False, 'max_depth': None, 'max_features': 'auto', 'min_samples_leaf': 2, 'min_samples_split': 2, 'n_estimators': 50)\n",
    "rf.fit(x_train,y_train)'''"
   ]
  },
  {
   "cell_type": "code",
   "execution_count": null,
   "metadata": {
    "id": "nYCbDOSmipb4"
   },
   "outputs": [],
   "source": []
  },
  {
   "cell_type": "code",
   "execution_count": null,
   "metadata": {
    "colab": {
     "base_uri": "https://localhost:8080/",
     "height": 147
    },
    "id": "FTk31or1FG03",
    "outputId": "22ce2344-ac0f-43a0-dbe1-637bd8c2ea1d"
   },
   "outputs": [],
   "source": [
    "rf = RandomForestClassifier(random_state=42, bootstrap=False, max_depth=None,\n",
    "                            max_features='auto', min_samples_leaf=2,\n",
    "                            min_samples_split=2, n_estimators=100)\n",
    "rf.fit(x_train,y_train)"
   ]
  },
  {
   "cell_type": "code",
   "execution_count": null,
   "metadata": {
    "id": "33Tca2dKBB40"
   },
   "outputs": [],
   "source": [
    "x_pred=rf.predict(x_train)\n",
    "y_pred=rf.predict(x_test)"
   ]
  },
  {
   "cell_type": "code",
   "execution_count": null,
   "metadata": {
    "id": "06YYtHIOigFn"
   },
   "outputs": [],
   "source": []
  },
  {
   "cell_type": "code",
   "execution_count": null,
   "metadata": {
    "colab": {
     "base_uri": "https://localhost:8080/"
    },
    "id": "znq4OsPY5CY3",
    "outputId": "963c788e-3fb5-4cea-e8b8-2279dc05fd24"
   },
   "outputs": [],
   "source": [
    "print(classification_report(y_train,x_pred))\n",
    "print(classification_report(y_test,y_pred))"
   ]
  },
  {
   "cell_type": "code",
   "execution_count": null,
   "metadata": {
    "colab": {
     "base_uri": "https://localhost:8080/"
    },
    "id": "9R27Tt0gpOHf",
    "outputId": "302596f6-2a7c-4a67-9e53-030d507a6949"
   },
   "outputs": [],
   "source": [
    "df.info()"
   ]
  },
  {
   "cell_type": "code",
   "execution_count": null,
   "metadata": {
    "id": "y50wKVY0sUvz"
   },
   "outputs": [],
   "source": []
  },
  {
   "cell_type": "code",
   "execution_count": null,
   "metadata": {
    "colab": {
     "base_uri": "https://localhost:8080/"
    },
    "id": "j8mcjnVthrSU",
    "outputId": "e379b14b-6f0a-494d-80a6-aa9e58a6d6a8"
   },
   "outputs": [],
   "source": [
    "train_accuracy = accuracy_score(y_train, x_pred)\n",
    "print(f'Training Accuracy: {train_accuracy * 100:.2f}%')\n",
    "\n",
    "# Calculate accuracy for testing set\n",
    "test_accuracy = accuracy_score(y_test, y_pred)\n",
    "print(f'Testing Accuracy: {test_accuracy * 100:.2f}%')"
   ]
  },
  {
   "cell_type": "code",
   "execution_count": null,
   "metadata": {
    "colab": {
     "base_uri": "https://localhost:8080/"
    },
    "id": "rgB1VkMssVnS",
    "outputId": "b37fc3e9-12cf-4657-fe1a-90abf2987d64"
   },
   "outputs": [],
   "source": [
    "pip show scikit-learn\n"
   ]
  },
  {
   "cell_type": "code",
   "execution_count": null,
   "metadata": {
    "id": "hHqJiP6xsWNs"
   },
   "outputs": [],
   "source": [
    "import pickle as pkl\n",
    "pkl.dump(rf, open('model.pkl', 'wb'))\n",
    "\n",
    "\n",
    "\n"
   ]
  },
  {
   "cell_type": "code",
   "execution_count": null,
   "metadata": {
    "id": "ocmoBmO5y5jQ"
   },
   "outputs": [],
   "source": [
    "pip show scikit-learn"
   ]
  },
  {
   "cell_type": "code",
   "execution_count": null,
   "metadata": {},
   "outputs": [],
   "source": []
  }
 ],
 "metadata": {
  "accelerator": "TPU",
  "colab": {
   "gpuType": "V28",
   "provenance": []
  },
  "kernelspec": {
   "display_name": "Python 3 (ipykernel)",
   "language": "python",
   "name": "python3"
  },
  "language_info": {
   "codemirror_mode": {
    "name": "ipython",
    "version": 3
   },
   "file_extension": ".py",
   "mimetype": "text/x-python",
   "name": "python",
   "nbconvert_exporter": "python",
   "pygments_lexer": "ipython3",
   "version": "3.11.7"
  }
 },
 "nbformat": 4,
 "nbformat_minor": 4
}
